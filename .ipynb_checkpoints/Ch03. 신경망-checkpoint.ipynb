{
 "cells": [
  {
   "cell_type": "markdown",
   "id": "ce6a5bf9",
   "metadata": {},
   "source": [
    "## 활성화 함수\n",
    "###  계단  함수 구현하기\n"
   ]
  },
  {
   "cell_type": "code",
   "execution_count": 3,
   "id": "60247bf9",
   "metadata": {},
   "outputs": [
    {
     "data": {
      "text/plain": [
       "1"
      ]
     },
     "execution_count": 3,
     "metadata": {},
     "output_type": "execute_result"
    }
   ],
   "source": [
    "# 계단 함수\n",
    "def step_function(x):\n",
    "    if x > 0:\n",
    "        return 1\n",
    "    else :\n",
    "        return 0\n",
    "    \n",
    "step_function(1.2)"
   ]
  },
  {
   "cell_type": "code",
   "execution_count": 4,
   "id": "e5838f96",
   "metadata": {},
   "outputs": [
    {
     "data": {
      "image/png": "[encoded data removed]",
      "text/plain": [
       "<Figure size 432x288 with 1 Axes>"
      ]
     },
     "metadata": {
      "needs_background": "light"
     },
     "output_type": "display_data"
    }
   ],
   "source": [
    "# 넘파이 배열을 인수로 넣어보기\n",
    "import numpy as np\n",
    "import matplotlib.pyplot as plt\n",
    "\n",
    "def step_function(x):\n",
    "    y = x > 0\n",
    "    return np.array(x > 0, dtype = np.int64)\n",
    "\n",
    "x = np.arange(-5.0, 5.0, 0.0001)\n",
    "y = step_function(x)\n",
    "plt.plot(x,y)\n",
    "plt.ylim(-0.1, 1.1) # y축의 범위\n",
    "plt.show()"
   ]
  },
  {
   "cell_type": "markdown",
   "id": "18ae0a2b",
   "metadata": {},
   "source": [
    "### 시그모이드 함수 구현하기"
   ]
  },
  {
   "cell_type": "code",
   "execution_count": 5,
   "id": "5210f987",
   "metadata": {},
   "outputs": [
    {
     "data": {
      "image/png": "[encoded data removed]",
      "text/plain": [
       "<Figure size 432x288 with 1 Axes>"
      ]
     },
     "metadata": {
      "needs_background": "light"
     },
     "output_type": "display_data"
    }
   ],
   "source": [
    "# 간단한 시그모이드 함수\n",
    "def sigmoid(x):\n",
    "    return 1 / (1 + np.exp(-x))  #h(x)\n",
    "\n",
    "x = np.arange(-5.0, 5.0, 0.1)\n",
    "y = sigmoid(x)\n",
    "plt.plot(x, y)\n",
    "plt.ylim(-0.1, 1.1)\n",
    "plt.show()"
   ]
  },
  {
   "cell_type": "markdown",
   "id": "4fb54b17",
   "metadata": {},
   "source": [
    "### ReLU 함수 구현하기"
   ]
  },
  {
   "cell_type": "code",
   "execution_count": 6,
   "id": "576bfe2a",
   "metadata": {
    "scrolled": true
   },
   "outputs": [
    {
     "data": {
      "image/png": "[encoded data removed]",
      "text/plain": [
       "<Figure size 432x288 with 1 Axes>"
      ]
     },
     "metadata": {
      "needs_background": "light"
     },
     "output_type": "display_data"
    }
   ],
   "source": [
    "def relu(x):\n",
    "    return np.maximum(0, x)\n",
    "\n",
    "x = np.arange(-5.0, 5.0, 0.1)\n",
    "y = relu(x)\n",
    "plt.plot(x, y)\n",
    "plt.ylim(-0.1, 1.1)\n",
    "plt.show()"
   ]
  },
  {
   "cell_type": "markdown",
   "id": "9111d620",
   "metadata": {},
   "source": [
    "## 다차원 배열의 계산"
   ]
  },
  {
   "cell_type": "code",
   "execution_count": 7,
   "id": "452feaf3",
   "metadata": {},
   "outputs": [
    {
     "name": "stdout",
     "output_type": "stream",
     "text": [
      "[[[ 1  2]\n",
      "  [ 3  4]\n",
      "  [ 5  6]]\n",
      "\n",
      " [[ 7  8]\n",
      "  [ 9 10]\n",
      "  [11 12]]]\n",
      "3\n"
     ]
    }
   ],
   "source": [
    "# 배열의 차원 수를 확인 : np.ndim()\n",
    "\n",
    "B = np.array([[[1,2], [3,4], [5,6]], [[7,8], [9,10], [11,12]]])\n",
    "print(B)\n",
    "print(np.ndim(B))"
   ]
  },
  {
   "cell_type": "code",
   "execution_count": 8,
   "id": "1ce3e98d",
   "metadata": {},
   "outputs": [
    {
     "data": {
      "text/plain": [
       "array([[19, 22],\n",
       "       [43, 50]])"
      ]
     },
     "execution_count": 8,
     "metadata": {},
     "output_type": "execute_result"
    }
   ],
   "source": [
    "# 행렬의 곱 : np.dot(A,B)\n",
    "a = np.array([[1,2], [3,4]])\n",
    "b = np.array([[5,6], [7,8]])\n",
    "np.dot(a,b)"
   ]
  },
  {
   "cell_type": "markdown",
   "id": "0f6a5990",
   "metadata": {},
   "source": [
    "## 3층 신경망 구현하기"
   ]
  },
  {
   "cell_type": "code",
   "execution_count": 9,
   "id": "26c271c4",
   "metadata": {},
   "outputs": [
    {
     "name": "stdout",
     "output_type": "stream",
     "text": [
      "[0.3 0.7 1.1]\n"
     ]
    }
   ],
   "source": [
    "# 신경망 구축 - 입력층에서 1층으로 신호 전달\n",
    "\n",
    "x = np.array([1.0, 0.5])\n",
    "w1 = np.array([[0.1, 0.3, 0.5], [0.2, 0.4, 0.6]])\n",
    "b1 = np.array([0.1, 0.2, 0.3])\n",
    "\n",
    "a1 = np.dot(x, w1) + b1\n",
    "print(a1)"
   ]
  },
  {
   "cell_type": "code",
   "execution_count": 10,
   "id": "97ff947e",
   "metadata": {},
   "outputs": [
    {
     "name": "stdout",
     "output_type": "stream",
     "text": [
      "[0.57444252 0.66818777 0.75026011]\n"
     ]
    }
   ],
   "source": [
    "# 가중치의 합을 활성화함수 h()로 변환한 신호 - z\n",
    "z1 = sigmoid(a1)\n",
    "print(z1)"
   ]
  },
  {
   "cell_type": "code",
   "execution_count": 11,
   "id": "069562b4",
   "metadata": {
    "scrolled": true
   },
   "outputs": [
    {
     "data": {
      "text/plain": [
       "array([0.62624937, 0.7710107 ])"
      ]
     },
     "execution_count": 11,
     "metadata": {},
     "output_type": "execute_result"
    }
   ],
   "source": [
    "# 신경망 구축 - 1층에서 2층으로 신호 전달\n",
    "w2 = np.array([[0.1, 0.4], [0.2, 0.5], [0.3, 0.6]])\n",
    "b2 = np.array([0.1, 0.2])\n",
    "\n",
    "a2 = np.dot(z1, w2)  + b2\n",
    "z2 = sigmoid(a2)\n",
    "z2\n"
   ]
  },
  {
   "cell_type": "code",
   "execution_count": 12,
   "id": "1d9dd250",
   "metadata": {
    "scrolled": true
   },
   "outputs": [],
   "source": [
    "# 마지막 은닉층에서 출력층으로 신호 전달\n",
    "def identity_function(x):\n",
    "    return x\n",
    "\n",
    "w3 = np.array([[0.1, 0.3], [0.2, 0.4]])\n",
    "b3 = np.array([0.1, 0.2])"
   ]
  },
  {
   "cell_type": "markdown",
   "id": "74b289cc",
   "metadata": {},
   "source": [
    "### 구현 정리"
   ]
  },
  {
   "cell_type": "code",
   "execution_count": 20,
   "id": "2a62fbea",
   "metadata": {},
   "outputs": [],
   "source": [
    "# 3층 신경망 정리\n",
    "def init_network():\n",
    "    network = {} # 딕셔너리 변수에 저장\n",
    "    network['W1'] = np.array([[0.1, 0.3, 0.5], [0.2, 0.4, 0.6]])  # 가중치 1\n",
    "    network['b1'] = np.array([0.1, 0.2, 0.3])                     # 편향 1 ~ \n",
    "    network['W2'] = np.array([[0.1, 0.4], [0.2, 0.5], [0.3, 0.6]])\n",
    "    network['b2'] = np.array([0.1, 0.2])\n",
    "    network['W3'] = np.array([[0.1, 0.3], [0.2, 0.4]])\n",
    "    network['b3'] = np.array([0.1, 0.2])\n",
    "    \n",
    "    return network\n",
    "\n",
    "def forward(network, x):  # 입력함수를 \n",
    "    W1, W2, W3 = network['W1'], network['W2'], network['W3']\n",
    "    b1, b2, b3 = network['b1'], network['b2'], network['b3']\n",
    "    \n",
    "    a1 = np.dot(x, W1) + b1\n",
    "    z1 = sigmoid(a1)\n",
    "    a2 = np.dot(z1, W2) + b2\n",
    "    z2 = sigmoid(a2)\n",
    "    a3 = np.dot(z2, W3) + b3\n",
    "    y = identity_function(a3)\n",
    "    \n",
    "    return y"
   ]
  },
  {
   "cell_type": "code",
   "execution_count": 21,
   "id": "38414484",
   "metadata": {},
   "outputs": [
    {
     "data": {
      "text/plain": [
       "array([0.31682708, 0.69627909])"
      ]
     },
     "execution_count": 21,
     "metadata": {},
     "output_type": "execute_result"
    }
   ],
   "source": [
    "network = init_network()\n",
    "x = np.array([1.0, 0.5])\n",
    "y = forward(network, x)\n",
    "y"
   ]
  },
  {
   "cell_type": "markdown",
   "id": "914adca0",
   "metadata": {},
   "source": [
    "## 출력층 설계하기\n"
   ]
  },
  {
   "cell_type": "code",
   "execution_count": 18,
   "id": "3756104e",
   "metadata": {},
   "outputs": [],
   "source": [
    "# 일반적으로 회귀에는 항등함수, 분류에는 소프트맥스 함수 사용\n",
    "# 회귀 - 항등 함수 : 입력을 그대로 출력하는 것.\n",
    "# 분류 - 소프트맥스 함수 : 소프트맥스의 출력은 모든 입력 신호로부터 화살표를 받음.\n",
    "\n",
    "import numpy as np\n",
    "# 소프트맥수 함수 구현해보기\n",
    "def softmax(a):\n",
    "    exp_a = np.exp(a)\n",
    "    sum_exp_a = np.sum(exp_a)\n",
    "    y = exp_a / sum_exp_a\n",
    "    \n",
    "    return y\n",
    "\n",
    "# 오버플로를 막을 목적으로 입력 신호 중 최댓값을 이용해야 함\n",
    "def softmax(a):\n",
    "    c = np.max(a)\n",
    "    exp_a = np.exp(a - c)\n",
    "    sum_exp_a = np.sum(exp_a)\n",
    "    y = exp_a / sum_exp_a\n",
    "    \n",
    "    return y"
   ]
  },
  {
   "cell_type": "code",
   "execution_count": 17,
   "id": "8e4c56bf",
   "metadata": {
    "scrolled": true
   },
   "outputs": [
    {
     "name": "stdout",
     "output_type": "stream",
     "text": [
      "[0.01821127 0.24519181 0.73659691]\n",
      "1.0\n"
     ]
    }
   ],
   "source": [
    "a = np.array([0.3, 2.9, 4.0])\n",
    "y = softmax(a)\n",
    "print(y)\n",
    "print(np.sum(y)) # 총합이 1이 된다는 것은 소프트맥스 함수의 중요한 성질임.\n",
    "\n",
    "# 신경망으로 분류할 때는 출력층의 소프트맥스 함수를 생략해도 됨."
   ]
  },
  {
   "cell_type": "markdown",
   "id": "b795831b",
   "metadata": {},
   "source": [
    "## 손글씨 숫자 인식\n",
    "### MNIST 데이터셋"
   ]
  },
  {
   "cell_type": "code",
   "execution_count": 24,
   "id": "143e3b14",
   "metadata": {},
   "outputs": [
    {
     "name": "stdout",
     "output_type": "stream",
     "text": [
      "\u001b[31mERROR: Could not find a version that satisfies the requirement dataset.mnist\u001b[0m\r\n",
      "\u001b[31mERROR: No matching distribution found for dataset.mnist\u001b[0m\r\n"
     ]
    }
   ],
   "source": [
    "!pip install dataset.mnist"
   ]
  },
  {
   "cell_type": "code",
   "execution_count": 43,
   "id": "64d6b463",
   "metadata": {
    "scrolled": false
   },
   "outputs": [],
   "source": [
    "import sys, os\n",
    "sys.path.append(\"./UnderDL\")\n",
    "from mnist import load_mnist"
   ]
  },
  {
   "cell_type": "code",
   "execution_count": 47,
   "id": "ce81b8b9",
   "metadata": {},
   "outputs": [],
   "source": [
    "# (x_train, t_train), (x_test, t_test) = load_mnist(flatten = True, normalize = False)\n",
    "\n",
    "# normalize, flatten, one_hot_label 설정할 수 있음\n",
    "# normalize는 입력 이미지의 픽셀값을 0.0~1.0 사이의 갑으로 정규화할지 정함. False로 지정하면 원래 값 그대로 0~255사이의 값을 유지\n",
    "# flatten은 입력 이미지를 1차원 배열로 만들 것인지 정함. False로 하면 1*28*28의 3차원 배열, True로 설정하면 784개의 원소로 이루어진 1차원\n",
    "# 배열로 저장\n",
    "# one_hot_label은 레이블을 원 핫 인코딩 형태로 저장할지를 정함"
   ]
  },
  {
   "cell_type": "code",
   "execution_count": 49,
   "id": "f868489d",
   "metadata": {
    "scrolled": true
   },
   "outputs": [
    {
     "name": "stdout",
     "output_type": "stream",
     "text": [
      "(60000, 784)\n",
      "(60000,)\n",
      "(10000, 784)\n",
      "(10000,)\n"
     ]
    }
   ],
   "source": [
    "print(x_train.shape)\n",
    "print(t_train.shape)\n",
    "print(x_test.shape)\n",
    "print(t_test.shape)"
   ]
  },
  {
   "cell_type": "code",
   "execution_count": 63,
   "id": "fce92f2c",
   "metadata": {},
   "outputs": [
    {
     "name": "stdout",
     "output_type": "stream",
     "text": [
      "5\n",
      "(784,)\n",
      "(28, 28)\n"
     ]
    }
   ],
   "source": [
    "# 이미지를 화면으로 불러오기\n",
    "import sys, os\n",
    "sys.path.append(os.pardir)\n",
    "import numpy as np\n",
    "from mnist import load_mnist\n",
    "from PIL import Image\n",
    "\n",
    "def img_show(img):\n",
    "    pil_img = Image.fromarray(np.uint8(img))\n",
    "    pil_img.show()\n",
    "    \n",
    "(x_train, t_train), (x_test, t_test) = load_mnist(flatten = True, normalize = False)\n",
    "\n",
    "img = x_train[0]\n",
    "label = t_train[0]\n",
    "print(label)\n",
    "\n",
    "print(img.shape)\n",
    "img = img.reshape(28,28)\n",
    "print(img.shape)\n",
    "\n",
    "img_show(img)"
   ]
  }
 ],
 "metadata": {
  "kernelspec": {
   "display_name": "Python 3",
   "language": "python",
   "name": "python3"
  },
  "language_info": {
   "codemirror_mode": {
    "name": "ipython",
    "version": 3
   },
   "file_extension": ".py",
   "mimetype": "text/x-python",
   "name": "python",
   "nbconvert_exporter": "python",
   "pygments_lexer": "ipython3",
   "version": "3.8.2"
  }
 },
 "nbformat": 4,
 "nbformat_minor": 5
}
