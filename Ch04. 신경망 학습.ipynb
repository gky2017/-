{
 "cells": [
  {
   "cell_type": "code",
   "execution_count": 16,
   "id": "faa7358b",
   "metadata": {},
   "outputs": [],
   "source": [
    "# 신경망이 학습할 수 있도록 도와주는 지표 : 손실 함수\n",
    "# 학습의 목표는 이 손실 함수의 결괏값을 가장 작게 만드는 가중치 매개변수를 찾는 것\n",
    "\n",
    "# 이미지 분석 : 이미지에서 특징을 추출하고 그 특징의 패턴을 기계학습 기술로 학습하는 방법 : 컴퓨터 비전\n",
    "# 신경망은 이미지를 '있는 그대로' 학습함. 사람의 생각이 개입되지 않음.\n",
    "\n",
    "# 오버피팅(과적합) : 한 데이터셋에만 지나치게 최적화된 상태 이 과적합을 피하는 것이 머신러닝의 주요한 과제임.\n"
   ]
  },
  {
   "cell_type": "markdown",
   "id": "2111c9d4",
   "metadata": {},
   "source": [
    "### 오차제곱합\n",
    "$$ E = \\frac1 2  \\sum_k (y_k = t_k)^2 $$"
   ]
  },
  {
   "cell_type": "code",
   "execution_count": 2,
   "id": "25ee0f8c",
   "metadata": {},
   "outputs": [
    {
     "data": {
      "text/plain": [
       "0.09750000000000003"
      ]
     },
     "execution_count": 2,
     "metadata": {},
     "output_type": "execute_result"
    }
   ],
   "source": [
    "# 오차제곱합은 가장 많이 쓰이는 손실 함수이다.\n",
    "import numpy as np\n",
    "\n",
    "def sse(y, t):\n",
    "    return 0.5 * np.sum((y-t) ** 2) \n",
    "\n",
    "t = [0, 0, 1, 0, 0, 0, 0, 0, 0, 0]\n",
    "y = [0.1, 0.05, 0.6, 0.0, 0.05, 0.1, 0.0, 0.1, 0.0, 0.0]\n",
    "sse(np.array(y), np.array(t))"
   ]
  },
  {
   "cell_type": "markdown",
   "id": "b29ed3b0",
   "metadata": {},
   "source": [
    "## 교차 엔트로피 오차\n",
    "\n",
    "$$ E = -\\sum_k t_k  \\log y_k $$\n",
    "* $ y_k $는 신경망의 출력, $ t_k $ 는 정답 레이블"
   ]
  },
  {
   "cell_type": "code",
   "execution_count": null,
   "id": "fcb1c982",
   "metadata": {},
   "outputs": [],
   "source": []
  },
  {
   "cell_type": "code",
   "execution_count": 5,
   "id": "307a7dad",
   "metadata": {},
   "outputs": [
    {
     "data": {
      "text/plain": [
       "0.510825457099338"
      ]
     },
     "execution_count": 5,
     "metadata": {},
     "output_type": "execute_result"
    }
   ],
   "source": [
    "# 로그함수에서도 보이다싶이 x가 1일 때 y는 0이 되고, x가 0에 가까워질수록 y의 값은 점점 작아짐.\n",
    "# 식도 마찬가지로 정답에 해당하는 출력이 커질수록 0에 다가가다가 그 출력이 1일 때 0이 됨.\n",
    "import numpy as np\n",
    "\n",
    "def cee(y, t):\n",
    "    delta = 1e-7\n",
    "    return -np.sum(t * np.log(y + delta))  # 아주 작은 값인 delta를 더하는 이유는 np.log()가 0이 되지 않기 위함.\n",
    "\n",
    "t = [0, 0, 1, 0, 0, 0, 0, 0, 0, 0]\n",
    "y = [0.1, 0.05, 0.6, 0.0, 0.05, 0.1, 0.0, 0.1, 0.0, 0.0]\n",
    "cee(np.array(y), np.array(t))"
   ]
  },
  {
   "cell_type": "markdown",
   "id": "cd9350d1",
   "metadata": {},
   "source": [
    "## 모든 데이터에 대한 교차 엔트로피 오차\n",
    "\n",
    "$$ E = -\\frac1 N \\sum_n \\sum_k t_nk \\log y_nk  $$\n",
    "\n",
    "* 마지막에 N으로 나누어 정규화함. 이는 '평균 손실 함수'를 구하는 것임.\n"
   ]
  },
  {
   "cell_type": "code",
   "execution_count": 72,
   "id": "cd0cb3af",
   "metadata": {},
   "outputs": [
    {
     "name": "stdout",
     "output_type": "stream",
     "text": [
      "Downloading train-images-idx3-ubyte.gz ... \n",
      "Done\n",
      "Downloading train-labels-idx1-ubyte.gz ... \n",
      "Done\n",
      "Downloading t10k-images-idx3-ubyte.gz ... \n",
      "Done\n",
      "Downloading t10k-labels-idx1-ubyte.gz ... \n",
      "Done\n",
      "Converting train-images-idx3-ubyte.gz to NumPy Array ...\n",
      "Done\n",
      "Converting train-labels-idx1-ubyte.gz to NumPy Array ...\n",
      "Done\n",
      "Converting t10k-images-idx3-ubyte.gz to NumPy Array ...\n",
      "Done\n",
      "Converting t10k-labels-idx1-ubyte.gz to NumPy Array ...\n",
      "Done\n",
      "Creating pickle file ...\n",
      "Done!\n",
      "(60000, 784)\n",
      "(60000, 10)\n"
     ]
    }
   ],
   "source": [
    "import sys, os\n",
    "sys.path.append(\"/Users/yimjaekyoon/Library/CloudStorage/OneDrive-개인/ScratchDL\")\n",
    "import numpy as np\n",
    "from data.mnist import load_mnist\n",
    "\n",
    "(x_train, t_train), (x_test, t_test) = load_mnist(normalize = True, one_hot_label=True)\n",
    "\n",
    "print(x_train.shape)\n",
    "print(t_train.shape)"
   ]
  },
  {
   "cell_type": "code",
   "execution_count": 36,
   "id": "60758b77",
   "metadata": {
    "collapsed": true
   },
   "outputs": [
    {
     "data": {
      "text/plain": [
       "array([[0., 0., 0., 0., 0., 0., 0., 1., 0., 0.],\n",
       "       [0., 0., 0., 0., 1., 0., 0., 0., 0., 0.],\n",
       "       [0., 0., 0., 0., 1., 0., 0., 0., 0., 0.],\n",
       "       [0., 0., 0., 0., 1., 0., 0., 0., 0., 0.],\n",
       "       [0., 0., 0., 0., 0., 1., 0., 0., 0., 0.],\n",
       "       [0., 0., 0., 0., 1., 0., 0., 0., 0., 0.],\n",
       "       [0., 0., 0., 0., 0., 0., 0., 1., 0., 0.],\n",
       "       [0., 0., 1., 0., 0., 0., 0., 0., 0., 0.],\n",
       "       [0., 0., 0., 0., 0., 0., 1., 0., 0., 0.],\n",
       "       [0., 0., 0., 1., 0., 0., 0., 0., 0., 0.]])"
      ]
     },
     "execution_count": 36,
     "metadata": {},
     "output_type": "execute_result"
    }
   ],
   "source": [
    "# 이 훈련 데이터에서 무작위로 10장만 빼내려면?\n",
    "train_size = x_train.shape[0]\n",
    "batch_size = 10\n",
    "batch_mask = np.random.choice(train_size, batch_size) # 0이상 train_size 미만의 수 중에서 무작위로 batch_size 개를 골라냄\n",
    "x_batch = x_train[batch_mask]\n",
    "t_batch = t_train[batch_mask]\n",
    "\n",
    "t_batch"
   ]
  },
  {
   "cell_type": "markdown",
   "id": "014a667e",
   "metadata": {},
   "source": [
    "### 배치용 교차 엔트로치 오차 구현하기"
   ]
  },
  {
   "cell_type": "code",
   "execution_count": 37,
   "id": "76e60e97",
   "metadata": {},
   "outputs": [],
   "source": [
    "# 미니배치 같은 배치 데이터를 지원하는 교차 엔트로피 오차(cce)는 ?\n",
    "batch_size = 10\n",
    "\n",
    "def cee(y, t):\n",
    "    if y.ndim == 1:\n",
    "        t = t.reshape(1, t.size)\n",
    "        y = y.reshape(1, y.size)    \n",
    "    batch_size = y.shape[0]\n",
    "    \n",
    "    return -np.sum(t * np.log(y + 1e-7)) / batch_size"
   ]
  },
  {
   "cell_type": "code",
   "execution_count": null,
   "id": "423b9df6",
   "metadata": {},
   "outputs": [],
   "source": [
    "# 손실함수를 사용해야 하는 이유 : 신경망 학습에서는 최적의 매개변수를 탐색할 때 손실 함수의 값을 가능한 한 작게 하는 매개 변수 값을 찾음.\n",
    "# 이 때 매개변수의 미분(기울기)를 계산하고, 그 미분 값을 단서로 매개변수의 값을 서서싷 갱신하는 과정을 반복함.\n",
    "\n",
    "# 정확도를 지표로 삼아서는 안 되는 이유는 미분 값이 대부분 장소에서 0이 되어 매개변수를 갱신할 수 없기 때문.\n",
    "\n"
   ]
  },
  {
   "cell_type": "markdown",
   "id": "6c308a9a",
   "metadata": {},
   "source": [
    "## 수치 미분\n",
    "\n",
    "### 미분"
   ]
  },
  {
   "cell_type": "code",
   "execution_count": 3,
   "id": "b3d4a977",
   "metadata": {},
   "outputs": [],
   "source": [
    "# 미분 구현 - 나쁜 예\n",
    "def numerical_diff(f, x):\n",
    "    h = 10e-50\n",
    "    return (f(x + h) - f(x)) / h\n",
    "\n",
    "# 개선점 1\n",
    "# h는 매우 작은 값으로 대입하고 싶지만 이 방식은 반올림 오차 문제를 일으킴. : 너무 작은 값을 이용하면 컴퓨터로 계산하는데 문제가 된다.\n",
    "\n",
    "# 개선점 2\n",
    "# f의 차분에 관한 것 : (x + h)와 x 사이의 함수 f의 차분을 계산하고 있지만 이 계산에는 오차가 있다.\n",
    "# 진정한 미분은 x 위치의 함수의 기울기(접선)에 해당하지만 위 함수에서의 미분은 (x + h)와 x 사이의 기울기에 해당함.(전방 차분)"
   ]
  },
  {
   "cell_type": "code",
   "execution_count": 4,
   "id": "5bf15ae9",
   "metadata": {},
   "outputs": [],
   "source": [
    "# 개선점을 반영 - 오차를 줄이기 위해 (x + h)와 (x - h)일 때의 함수 f의 차분을 구함(중심 차분)\n",
    "def numerical_diff(f, x):\n",
    "    h = 1e-4\n",
    "    return (f(x + h) - f(x - h)) / (2 * h)"
   ]
  },
  {
   "cell_type": "markdown",
   "id": "6ab02bd1",
   "metadata": {},
   "source": [
    "### 수치 미분의 예\n",
    "\n",
    "$ y = 0.01 x^2 + 0.1 x  $"
   ]
  },
  {
   "cell_type": "code",
   "execution_count": 5,
   "id": "b485bd9a",
   "metadata": {},
   "outputs": [
    {
     "data": {
      "image/png": "[encoded data removed]",
      "text/plain": [
       "<Figure size 432x288 with 1 Axes>"
      ]
     },
     "metadata": {
      "needs_background": "light"
     },
     "output_type": "display_data"
    }
   ],
   "source": [
    "def function_1(x):\n",
    "    return 0.01 * x ** 2 + 0.1 * x\n",
    "\n",
    "import numpy as np\n",
    "import matplotlib.pyplot as plt\n",
    "\n",
    "x = np.arange(0.0, 20.0, 0.1)  # 0에서 20까지 0.1 간격의 배열 x를 만듬\n",
    "y = function_1(x)\n",
    "plt.xlabel(\"x\")\n",
    "plt.ylabel(\"y\")\n",
    "plt.plot(x, y)\n",
    "plt.show()"
   ]
  },
  {
   "cell_type": "code",
   "execution_count": 6,
   "id": "a60d6f1f",
   "metadata": {},
   "outputs": [
    {
     "name": "stdout",
     "output_type": "stream",
     "text": [
      "0.1999999999990898\n",
      "0.2999999999986347\n"
     ]
    }
   ],
   "source": [
    "# x = 5, 10일때 값 미분해보자\n",
    "print(numerical_diff(function_1, 5))\n",
    "print(numerical_diff(function_1, 10))"
   ]
  },
  {
   "cell_type": "markdown",
   "id": "2148baaf",
   "metadata": {},
   "source": [
    "### 편미분\n",
    "\n",
    "$ f(x_0, x_1) = x^2_0 + x^2_1 $"
   ]
  },
  {
   "cell_type": "code",
   "execution_count": 7,
   "id": "f4103805",
   "metadata": {},
   "outputs": [
    {
     "name": "stdout",
     "output_type": "stream",
     "text": [
      "6.00000000000378\n",
      "7.999999999999119\n"
     ]
    }
   ],
   "source": [
    "def function_2(x):\n",
    "    return x[0] ** 2 + x[1] ** 2\n",
    "\n",
    "# 어느 변수에 대한 미분이냐를 구별해야 함.\n",
    "# 이와 같이 변수가 여럿인 함수에 대한 미분을 편미분이라고 함.\n",
    "\n",
    "def function_tmp1(x0):\n",
    "    return x0 ** 2 + 4 ** 2\n",
    "print(numerical_diff(function_tmp1, 3.0))\n",
    "\n",
    "def function_tmp2(x1):\n",
    "    return 3 ** 2 + x1 ** 2\n",
    "print(numerical_diff(function_tmp2, 4.0))"
   ]
  },
  {
   "cell_type": "markdown",
   "id": "24029cfc",
   "metadata": {},
   "source": [
    "## 기울기"
   ]
  },
  {
   "cell_type": "code",
   "execution_count": 8,
   "id": "54a63ffa",
   "metadata": {},
   "outputs": [
    {
     "name": "stdout",
     "output_type": "stream",
     "text": [
      "[6. 8.]\n",
      "[0. 4.]\n",
      "[6. 0.]\n"
     ]
    }
   ],
   "source": [
    "# x0과 x1의 편미분을 동시에 계산하고 싶다면?\n",
    "# 모든 변수의 편미분을 벡터로 정리한 것을 기울기(gradient)라고 한다.\n",
    "def numerical_gradient(f, x):\n",
    "    h = 1e-4\n",
    "    grad = np.zeros_like(x)  # x와 형상이 같은 모든 원소가 0인 배열을 생성\n",
    "    \n",
    "    for idx in range(x.size):\n",
    "        tmp_val = x[idx]\n",
    "        # f(x + h) 계산\n",
    "        x[idx] = tmp_val + h\n",
    "        fxh1 = f(x)\n",
    "        \n",
    "        # f(x - h) 계산\n",
    "        x[idx] = tmp_val - h\n",
    "        fxh2 = f(x)\n",
    "        \n",
    "        grad[idx] = (fxh1 - fxh2) / (2 * h)\n",
    "        x[idx] = tmp_val # 값 복원\n",
    "        \n",
    "    return grad\n",
    "\n",
    "print(numerical_gradient(function_2, np.array([3.0, 4.0])))\n",
    "print(numerical_gradient(function_2, np.array([0.0, 2.0])))\n",
    "print(numerical_gradient(function_2, np.array([3.0, 0.0])))"
   ]
  },
  {
   "cell_type": "code",
   "execution_count": 9,
   "id": "9eb12b78",
   "metadata": {},
   "outputs": [],
   "source": [
    "# 기울기가 가리키는 쪽은 각 장소에서 함수의 출력 값을 가장 크게 줄이는 방향임."
   ]
  },
  {
   "cell_type": "markdown",
   "id": "674899bc",
   "metadata": {},
   "source": [
    "### 경사 하강법\n",
    "\n",
    "* 일반적인 머신러닝 문제에서 손실 함수는 매우 복잡하다.\n",
    "* 매개변수 공간이 광대하여 어디가 최솟값이 되는 곳인지를 짐작할 수 없다.\n",
    "* 이런 상황에서 기울기를 잘 이용해 함수의 최솟값을 찾으려는 것이 경사 하강법이다.\n",
    "* 각 지점에서 함수의 값을 낮추는 방안을 제시하는 지표가 기울기 이지만 기울기가 가리키는 곳에 정말 함수의 최솟값이 있는지 보장할 수는 없다.\n",
    "* 경사 하강법은 현 위치에서 기울어진 방향으로 일정 거리만큼 이동하고, 또 이동한 곳에서 마찬가지로 기울기를 구하고 그 기울어진 방향으로 나아가기를 반복함.\n",
    "\n",
    "$$ x_0 = x_0 - \\eta \\frac {\\partial f} {\\partial x_0} $$\n",
    "$$ x_1 = x_1 - \\eta \\frac {\\partial f} {\\partial x_1} $$\n",
    "\n",
    "\n",
    "\n",
    "* $ \\eta $ 는 신경망 학습에서 학습률 이라고 한다. 이 학습률 값이 너무 크거나 작으면 '좋은 장소'를 찾아갈 수 없다."
   ]
  },
  {
   "cell_type": "code",
   "execution_count": 11,
   "id": "c4d6637b",
   "metadata": {},
   "outputs": [
    {
     "data": {
      "text/plain": [
       "array([-6.11110793e-10,  8.14814391e-10])"
      ]
     },
     "execution_count": 11,
     "metadata": {},
     "output_type": "execute_result"
    }
   ],
   "source": [
    "import numpy as np\n",
    "\n",
    "def grad_descent(f, init_x, lr = 0.01, step_num = 100):  \n",
    "    # f : 최적화하려는 함수, init_x : 초깃값 lr : 학습률, step_num : 반복 횟수\n",
    "    x = init_x\n",
    "    \n",
    "    for i in range(step_num):\n",
    "        grad = numerical_gradient(f, x)  # 함수의 기울기\n",
    "        x -= lr * grad\n",
    "    return x\n",
    "\n",
    "\n",
    "def function_2(x):\n",
    "    return x[0] ** 2 + x[1] ** 2\n",
    "\n",
    "init_x = np.array([-3.0, 4.0])\n",
    "grad_descent(function_2, init_x = init_x, lr = 0.1, step_num=100)"
   ]
  },
  {
   "cell_type": "code",
   "execution_count": 12,
   "id": "a5fd430e",
   "metadata": {},
   "outputs": [
    {
     "name": "stdout",
     "output_type": "stream",
     "text": [
      "[-2.58983747e+13 -1.29524862e+12]\n",
      "[-2.99999994  3.99999992]\n"
     ]
    }
   ],
   "source": [
    "# 학습률이 너무 크면?\n",
    "init_x = np.array([-3.0, 4.0])\n",
    "print(grad_descent(function_2, init_x = init_x, lr = 10, step_num=100))\n",
    "\n",
    "# 학습률이 너무 작으면?\n",
    "init_x = np.array([-3.0, 4.0])\n",
    "print(grad_descent(function_2, init_x = init_x, lr = 1e-10, step_num=100))"
   ]
  },
  {
   "cell_type": "markdown",
   "id": "2bf49fa7",
   "metadata": {},
   "source": [
    "### 신경망에서의 기울기\n",
    "\n",
    "* 여기서 말하는 기울기는 가중치 매개변수에 대한 손실 함수의 기울기이다.\n"
   ]
  },
  {
   "cell_type": "code",
   "execution_count": 31,
   "id": "b94347cd",
   "metadata": {},
   "outputs": [
    {
     "name": "stdout",
     "output_type": "stream",
     "text": [
      "[[-2.24267981  0.4063238  -1.87266483]\n",
      " [-0.56307679  0.78803347  0.05478087]]\n"
     ]
    }
   ],
   "source": [
    "import sys, os\n",
    "sys.path.append(\"/Users/yimjaekyoon/Library/CloudStorage/OneDrive-개인/ScratchDL\")\n",
    "import numpy as np\n",
    "from common.functions import softmax, cross_entropy_error\n",
    "from common.gradient import numerical_gradient\n",
    "\n",
    "class simpleNet:\n",
    "    def __init__(self):\n",
    "        self.W = np.random.randn(2, 3)  # 정규분포로 초기화\n",
    "        \n",
    "    def predict(self, x):\n",
    "        return np.dot(x, self.W)\n",
    "    \n",
    "    def loss(self, x, t):\n",
    "        z = self.predict(x)\n",
    "        y = softmax(z)\n",
    "        loss = cross_entropy_error(y, t)\n",
    "        \n",
    "        return loss\n",
    "    \n",
    "net = simpleNet()\n",
    "print(net.W) # 가중치 매개변수"
   ]
  },
  {
   "cell_type": "code",
   "execution_count": 13,
   "id": "e407f9e9",
   "metadata": {
    "scrolled": true
   },
   "outputs": [
    {
     "name": "stdout",
     "output_type": "stream",
     "text": [
      "[-0.12311563  0.36006762  0.49144329]\n",
      "2\n",
      "0.8828446797292666\n"
     ]
    }
   ],
   "source": [
    "x = np.array([0.6, 0.9])\n",
    "p = net.predict(x)\n",
    "print(p)\n",
    "print(np.argmax(p))  # 최댓값의 index\n",
    "\n",
    "t = np.array([0,0,1])\n",
    "print(net.loss(x, t))\n"
   ]
  },
  {
   "cell_type": "code",
   "execution_count": 15,
   "id": "50e8f28e",
   "metadata": {},
   "outputs": [
    {
     "name": "stdout",
     "output_type": "stream",
     "text": [
      "[[ 0.13422615  0.21761105 -0.3518372 ]\n",
      " [ 0.20133922  0.32641658 -0.5277558 ]]\n"
     ]
    }
   ],
   "source": [
    "# 기울기를 구해보자\n",
    "# def f(W):\n",
    "#     return net.loss(x, t)\n",
    "\n",
    "# lambda 문법을 써보자\n",
    "f = lambda w : net.loss(x,t)\n",
    "dW = numerical_gradient(f, net.W)\n",
    "print(dW)\n",
    "\n",
    "# w11을 h만큼 늘리면 손실 함수의 값은 0.2h만큼 증가함.\n",
    "# w23을 h만큼 늘리면 손실 함수의 값은 0.5h만큼 감소함.\n",
    "\n",
    "# -> 손실함수를 줄인다는 관점에서는 w23은 양의 방향으로 갱신하고 w11은 음의 방향으로 갱신해야 함.\n",
    "# -> 한 번에 갱신되는 양에는 w23이 w11보다 크게 기여하고 있음."
   ]
  },
  {
   "cell_type": "markdown",
   "id": "5b749520",
   "metadata": {},
   "source": [
    "### 2층 신경망 클래스 구현하기"
   ]
  },
  {
   "cell_type": "code",
   "execution_count": 73,
   "id": "1bea8932",
   "metadata": {},
   "outputs": [],
   "source": [
    "import sys, os\n",
    "sys.path.append(\"/Users/yimjaekyoon/Library/CloudStorage/OneDrive-개인/ScratchDL\")\n",
    "import numpy as np\n",
    "from common.functions import *\n",
    "from common.gradient import numerical_gradient\n",
    "\n",
    "class TwoLayerNet:\n",
    "    # 초기화 수행\n",
    "    def __init__(self, input_size, hidden_size, output_size, weight_init_std =  0.01):\n",
    "        # 가중치 초기화\n",
    "        self.params = {}\n",
    "        self.params['W1'] = weight_init_std * np.random.randn(input_size, hidden_size)\n",
    "        self.params['b1'] = np.zeros(hidden_size)\n",
    "        self.params['W2'] = weight_init_std * np.random.randn(hidden_size, output_size)\n",
    "        self.params['b2'] = np.zeros(output_size)\n",
    "    \n",
    "    # 예측을 수행\n",
    "    def predict(self, x):\n",
    "        W1, W2 = self.params['W1'], self.params['W2']\n",
    "        b1, b2 = self.params['b1'], self.params['b2']\n",
    "        \n",
    "        a1 = np.dot(x, W1) + b1\n",
    "        z1 = sigmoid(a1)\n",
    "        a2 = np.dot(z1, W2) + b2\n",
    "        y = softmax(a2)\n",
    "        \n",
    "        return y\n",
    "    \n",
    "    # 손실 함수의 값을 구함\n",
    "    def loss(self, x, t):\n",
    "        y = self.predict(x)\n",
    "        \n",
    "        return cross_entropy_error(y, t)\n",
    "    \n",
    "    # 정확도를 구함\n",
    "    def accuracy(self, x, t):\n",
    "        y = self.predict(x)\n",
    "        y = np.argmax(y, axis = 1)\n",
    "        t = np.argmax(t, axis = 1)\n",
    "        \n",
    "        accuracy = np.sum(y == t) / float(x.shape[0])\n",
    "        return accuracy\n",
    "    \n",
    "    # 가중치 매개변수의 기울기를 구함\n",
    "    def numerical_gradient(self, x, t):\n",
    "        loss_W = lambda W: self.loss(x, t)\n",
    "\n",
    "        grads = {}\n",
    "        grads['W1'] = numerical_gradient(loss_W, self.params['W1'])\n",
    "        grads['b1'] = numerical_gradient(loss_W, self.params['b1'])\n",
    "        grads['W2'] = numerical_gradient(loss_W, self.params['W2'])\n",
    "        grads['b2'] = numerical_gradient(loss_W, self.params['b2'])\n",
    "\n",
    "        return grads\n",
    "    \n",
    "    # n_g의 성능 개선판\n",
    "    def gradient(self, x, t):\n",
    "        W1, W2 = self.params['W1'], self.params['W2']\n",
    "        b1, b2 = self.params['b1'], self.params['b2']\n",
    "        grads = {}\n",
    "\n",
    "        batch_num = x.shape[0]\n",
    "\n",
    "        # forward\n",
    "        a1 = np.dot(x, W1) + b1\n",
    "        z1 = sigmoid(a1)\n",
    "        a2 = np.dot(z1, W2) + b2\n",
    "        y = softmax(a2)\n",
    "\n",
    "        # backward\n",
    "        dy = (y - t) / batch_num  # ????\n",
    "        grads['W2'] = np.dot(z1.T, dy)\n",
    "        grads['b2'] = np.sum(dy, axis=0)\n",
    "\n",
    "        da1 = np.dot(dy, W2.T)\n",
    "        dz1 = sigmoid_grad(a1) * da1\n",
    "        grads['W1'] = np.dot(x.T, dz1)\n",
    "        grads['b1'] = np.sum(dz1, axis=0)\n",
    "\n",
    "        return grads\n"
   ]
  },
  {
   "cell_type": "markdown",
   "id": "0a00bc5e",
   "metadata": {},
   "source": [
    "### 미니배치 학습 구현"
   ]
  },
  {
   "cell_type": "code",
   "execution_count": 74,
   "id": "6ca2dc8e",
   "metadata": {},
   "outputs": [],
   "source": [
    "import numpy as np\n",
    "from data.mnist import load_mnist\n",
    "from two_layer_net import TwoLayerNet\n",
    "\n",
    "(x_train, t_train), (x_test, t_test) = load_mnist(normalize=True, one_hot_label=True)\n",
    "train_loss_list = []\n",
    "\n",
    "# 하이퍼파라미터\n",
    "iters_num = 10000 # 반복 횟수\n",
    "train_size = x_train.shape[0]\n",
    "batch_size = 100 # 미니배치 크기\n",
    "learning_rate = 0.1\n",
    "\n",
    "network = TwoLayerNet(input_size=784, hidden_size=50, output_size=10)\n",
    "\n",
    "for i in range(iters_num):\n",
    "    # 미니배치 획득\n",
    "    batch_mask = np.random.choice(train_size, batch_size)\n",
    "    x_batch = x_train[batch_mask]\n",
    "    t_batch = t_train[batch_mask]\n",
    "    \n",
    "    # 기울기 계산\n",
    "    grad = network.gradient(x_batch, t_batch)\n",
    "    \n",
    "    # 매개변수 갱신\n",
    "    for key in ('W1', 'b1', 'W2', 'b2'):\n",
    "        network.params[key] -= learning_rate * grad[key]\n",
    "    \n",
    "    # 학습 경과 기록\n",
    "    loss = network.loss(x_batch, t_batch)\n",
    "    train_loss_list.append(loss)"
   ]
  },
  {
   "cell_type": "code",
   "execution_count": 85,
   "id": "fbcd3939",
   "metadata": {},
   "outputs": [
    {
     "data": {
      "image/png": "[encoded data removed]",
      "text/plain": [
       "<Figure size 432x288 with 1 Axes>"
      ]
     },
     "metadata": {
      "needs_background": "light"
     },
     "output_type": "display_data"
    }
   ],
   "source": [
    "# 그래프로 나타내보기\n",
    "import matplotlib.pyplot as plt\n",
    "\n",
    "x = np.arange(0.0, 10000.0, 1.0)\n",
    "y = train_loss_list\n",
    "plt.plot(x,y)\n",
    "plt.ylim(0, 3.0) # y축의 범위\n",
    "plt.show()"
   ]
  },
  {
   "cell_type": "markdown",
   "id": "676b7228",
   "metadata": {},
   "source": [
    "### 시험 데이터로 평가하기\n",
    "\n",
    "* 신경망 학습에서는 훈련 데이터 외의 데이터를 올바르게 인식하는지를 확인해야 한다.\n",
    "* 다른 말로 오버피팅을 일으키지 않는지 확인해야 한다."
   ]
  },
  {
   "cell_type": "code",
   "execution_count": 86,
   "id": "3cec8702",
   "metadata": {},
   "outputs": [
    {
     "name": "stdout",
     "output_type": "stream",
     "text": [
      "train acc, test acc | 0.09736666666666667, 0.0982\n",
      "train acc, test acc | 0.7917666666666666, 0.7967\n",
      "train acc, test acc | 0.8775, 0.882\n",
      "train acc, test acc | 0.8967, 0.9011\n",
      "train acc, test acc | 0.9075333333333333, 0.9096\n",
      "train acc, test acc | 0.91345, 0.9157\n",
      "train acc, test acc | 0.9183, 0.921\n",
      "train acc, test acc | 0.9225666666666666, 0.9258\n",
      "train acc, test acc | 0.9259, 0.9267\n",
      "train acc, test acc | 0.92985, 0.932\n",
      "train acc, test acc | 0.93285, 0.9339\n",
      "train acc, test acc | 0.9352833333333334, 0.935\n",
      "train acc, test acc | 0.9379, 0.9384\n",
      "train acc, test acc | 0.9403333333333334, 0.9415\n",
      "train acc, test acc | 0.9423666666666667, 0.943\n",
      "train acc, test acc | 0.9439166666666666, 0.9445\n",
      "train acc, test acc | 0.9467833333333333, 0.946\n",
      "train acc, test acc | 0.9484, 0.9473\n",
      "train acc, test acc | 0.9491166666666667, 0.9493\n",
      "train acc, test acc | 0.9515, 0.9497\n",
      "train acc, test acc | 0.9520333333333333, 0.9511\n",
      "train acc, test acc | 0.9535, 0.9516\n",
      "train acc, test acc | 0.9548, 0.9517\n",
      "train acc, test acc | 0.9562666666666667, 0.9532\n",
      "train acc, test acc | 0.957, 0.955\n",
      "train acc, test acc | 0.9581333333333333, 0.9556\n",
      "train acc, test acc | 0.9590333333333333, 0.9555\n",
      "train acc, test acc | 0.9601, 0.9564\n",
      "train acc, test acc | 0.9608833333333333, 0.957\n",
      "train acc, test acc | 0.9619333333333333, 0.9574\n",
      "train acc, test acc | 0.9627666666666667, 0.9591\n",
      "train acc, test acc | 0.9638333333333333, 0.9586\n",
      "train acc, test acc | 0.9641666666666666, 0.9587\n",
      "train acc, test acc | 0.9648833333333333, 0.9594\n",
      "train acc, test acc | 0.9658333333333333, 0.96\n",
      "train acc, test acc | 0.9663, 0.9611\n",
      "train acc, test acc | 0.967, 0.9599\n",
      "train acc, test acc | 0.9676, 0.9607\n",
      "train acc, test acc | 0.9679833333333333, 0.9611\n",
      "train acc, test acc | 0.9688666666666667, 0.9616\n",
      "train acc, test acc | 0.9693833333333334, 0.963\n",
      "train acc, test acc | 0.96995, 0.963\n",
      "train acc, test acc | 0.97055, 0.9626\n",
      "train acc, test acc | 0.9705, 0.9622\n",
      "train acc, test acc | 0.9716166666666667, 0.964\n",
      "train acc, test acc | 0.9724166666666667, 0.9642\n",
      "train acc, test acc | 0.97225, 0.9638\n",
      "train acc, test acc | 0.9731166666666666, 0.9652\n",
      "train acc, test acc | 0.9734333333333334, 0.9653\n",
      "train acc, test acc | 0.9733666666666667, 0.965\n",
      "train acc, test acc | 0.9739333333333333, 0.9647\n",
      "train acc, test acc | 0.9746666666666667, 0.9658\n",
      "train acc, test acc | 0.9745666666666667, 0.9658\n",
      "train acc, test acc | 0.9748666666666667, 0.9652\n",
      "train acc, test acc | 0.9750166666666666, 0.9661\n",
      "train acc, test acc | 0.9756, 0.9658\n",
      "train acc, test acc | 0.97635, 0.9666\n",
      "train acc, test acc | 0.9765333333333334, 0.9662\n",
      "train acc, test acc | 0.97705, 0.9672\n",
      "train acc, test acc | 0.9772666666666666, 0.9672\n",
      "train acc, test acc | 0.9774666666666667, 0.9674\n",
      "train acc, test acc | 0.9779166666666667, 0.9669\n",
      "train acc, test acc | 0.9779333333333333, 0.9679\n",
      "train acc, test acc | 0.9786166666666667, 0.9675\n",
      "train acc, test acc | 0.9784833333333334, 0.9685\n",
      "train acc, test acc | 0.9789, 0.9678\n",
      "train acc, test acc | 0.9792, 0.9684\n",
      "train acc, test acc | 0.97975, 0.9686\n",
      "train acc, test acc | 0.9793333333333333, 0.9682\n",
      "train acc, test acc | 0.9797833333333333, 0.9686\n",
      "train acc, test acc | 0.9803333333333333, 0.969\n",
      "train acc, test acc | 0.9808, 0.9696\n",
      "train acc, test acc | 0.9802166666666666, 0.9683\n",
      "train acc, test acc | 0.9807666666666667, 0.9696\n",
      "train acc, test acc | 0.9814, 0.9697\n",
      "train acc, test acc | 0.9813166666666666, 0.9706\n",
      "train acc, test acc | 0.98165, 0.9702\n",
      "train acc, test acc | 0.9820166666666666, 0.9699\n",
      "train acc, test acc | 0.9818166666666667, 0.9701\n",
      "train acc, test acc | 0.9824333333333334, 0.9714\n",
      "train acc, test acc | 0.9822333333333333, 0.97\n",
      "train acc, test acc | 0.9827166666666667, 0.9704\n",
      "train acc, test acc | 0.9828833333333333, 0.971\n",
      "train acc, test acc | 0.98295, 0.9711\n",
      "train acc, test acc | 0.9830666666666666, 0.9708\n",
      "train acc, test acc | 0.9834333333333334, 0.9708\n",
      "train acc, test acc | 0.9832833333333333, 0.9706\n",
      "train acc, test acc | 0.98385, 0.9708\n",
      "train acc, test acc | 0.9838166666666667, 0.9713\n",
      "train acc, test acc | 0.9841166666666666, 0.9713\n",
      "train acc, test acc | 0.98455, 0.9708\n",
      "train acc, test acc | 0.9843333333333333, 0.9709\n",
      "train acc, test acc | 0.98465, 0.9708\n",
      "train acc, test acc | 0.9847666666666667, 0.9716\n",
      "train acc, test acc | 0.9849333333333333, 0.9708\n",
      "train acc, test acc | 0.9851, 0.9715\n",
      "train acc, test acc | 0.9854333333333334, 0.9718\n",
      "train acc, test acc | 0.9852833333333333, 0.9724\n",
      "train acc, test acc | 0.9855, 0.972\n",
      "train acc, test acc | 0.9856333333333334, 0.9724\n",
      "train acc, test acc | 0.9855666666666667, 0.9712\n",
      "train acc, test acc | 0.9861666666666666, 0.9715\n",
      "train acc, test acc | 0.9860666666666666, 0.9719\n",
      "train acc, test acc | 0.9863, 0.9724\n",
      "train acc, test acc | 0.9867, 0.973\n",
      "train acc, test acc | 0.9867333333333334, 0.9735\n",
      "train acc, test acc | 0.9871, 0.9723\n",
      "train acc, test acc | 0.98725, 0.9729\n",
      "train acc, test acc | 0.9872, 0.9729\n",
      "train acc, test acc | 0.9872333333333333, 0.9722\n",
      "train acc, test acc | 0.9872333333333333, 0.9729\n",
      "train acc, test acc | 0.9874833333333334, 0.9722\n",
      "train acc, test acc | 0.98765, 0.9731\n",
      "train acc, test acc | 0.9879333333333333, 0.9735\n",
      "train acc, test acc | 0.9878166666666667, 0.9737\n",
      "train acc, test acc | 0.9878333333333333, 0.9738\n",
      "train acc, test acc | 0.98805, 0.9733\n",
      "train acc, test acc | 0.9879833333333333, 0.9738\n",
      "train acc, test acc | 0.9881166666666666, 0.9731\n",
      "train acc, test acc | 0.9882666666666666, 0.9743\n",
      "train acc, test acc | 0.98855, 0.974\n",
      "train acc, test acc | 0.9883, 0.9734\n",
      "train acc, test acc | 0.9883, 0.9734\n",
      "train acc, test acc | 0.9887166666666667, 0.9726\n",
      "train acc, test acc | 0.9887333333333334, 0.9734\n",
      "train acc, test acc | 0.98895, 0.9731\n",
      "train acc, test acc | 0.9889166666666667, 0.974\n",
      "train acc, test acc | 0.9893833333333333, 0.9735\n",
      "train acc, test acc | 0.98915, 0.9743\n",
      "train acc, test acc | 0.9897166666666667, 0.974\n",
      "train acc, test acc | 0.9896, 0.9737\n",
      "train acc, test acc | 0.9893333333333333, 0.9732\n",
      "train acc, test acc | 0.9898666666666667, 0.9733\n",
      "train acc, test acc | 0.98975, 0.9727\n",
      "train acc, test acc | 0.9899166666666667, 0.9735\n",
      "train acc, test acc | 0.9902, 0.9731\n",
      "train acc, test acc | 0.9901, 0.9737\n",
      "train acc, test acc | 0.99015, 0.9735\n",
      "train acc, test acc | 0.9901333333333333, 0.9733\n",
      "train acc, test acc | 0.9901666666666666, 0.9734\n",
      "train acc, test acc | 0.9903666666666666, 0.9733\n",
      "train acc, test acc | 0.9906, 0.9743\n",
      "train acc, test acc | 0.99075, 0.9743\n",
      "train acc, test acc | 0.9906166666666667, 0.973\n",
      "train acc, test acc | 0.9910166666666667, 0.9739\n",
      "train acc, test acc | 0.9909666666666667, 0.974\n",
      "train acc, test acc | 0.991, 0.9734\n",
      "train acc, test acc | 0.9912, 0.9736\n",
      "train acc, test acc | 0.9913166666666666, 0.9739\n",
      "train acc, test acc | 0.9914, 0.9742\n",
      "train acc, test acc | 0.9913166666666666, 0.9741\n",
      "train acc, test acc | 0.9912, 0.9742\n",
      "train acc, test acc | 0.9916666666666667, 0.9743\n",
      "train acc, test acc | 0.9915833333333334, 0.9738\n",
      "train acc, test acc | 0.9916333333333334, 0.974\n",
      "train acc, test acc | 0.9917166666666667, 0.974\n",
      "train acc, test acc | 0.992, 0.9742\n",
      "train acc, test acc | 0.99185, 0.974\n",
      "train acc, test acc | 0.9918833333333333, 0.974\n",
      "train acc, test acc | 0.9919166666666667, 0.9744\n",
      "train acc, test acc | 0.9919333333333333, 0.9736\n",
      "train acc, test acc | 0.9921333333333333, 0.9745\n",
      "train acc, test acc | 0.9922666666666666, 0.9743\n",
      "train acc, test acc | 0.9924166666666666, 0.975\n",
      "train acc, test acc | 0.9924333333333333, 0.9746\n",
      "train acc, test acc | 0.9925166666666667, 0.9748\n",
      "train acc, test acc | 0.9926166666666667, 0.9739\n"
     ]
    }
   ],
   "source": [
    "import numpy as np\n",
    "from data.mnist import load_mnist\n",
    "from two_layer_net import TwoLayerNet\n",
    "(x_train, t_train), (x_test, t_test) = load_mnist(normalize=True, one_hot_label=True)\n",
    "\n",
    "network = TwoLayerNet(input_size=784, hidden_size=50, output_size=10)\n",
    "\n",
    "# 하이퍼파라미터\n",
    "iters_num = 100000\n",
    "train_size = x_train.shape[0]\n",
    "batch_size = 100\n",
    "learning_rate = 0.1\n",
    "\n",
    "train_loss_list = []\n",
    "train_acc_list = []\n",
    "test_acc_list = []\n",
    "\n",
    "iter_per_epoch = max(train_size / batch_size, 1)\n",
    "\n",
    "for i in range(iters_num):\n",
    "    # 미니배치 획득\n",
    "    batch_mask = np.random.choice(train_size, batch_size)\n",
    "    x_batch = x_train[batch_mask]\n",
    "    t_batch = t_train[batch_mask]\n",
    "    \n",
    "    # 기울기 계산\n",
    "    grad = network.gradient(x_batch, t_batch)\n",
    "    \n",
    "    # 매개변수 갱신\n",
    "    for key in ('W1', 'b1', 'W2', 'b2'):\n",
    "        network.params[key] -= learning_rate * grad[key]\n",
    "    \n",
    "    # 학습 경과 기록\n",
    "    loss = network.loss(x_batch, t_batch)\n",
    "    train_loss_list.append(loss)\n",
    "    \n",
    "    # 1 epoch 당 정확도 계산\n",
    "    if i % iter_per_epoch == 0:\n",
    "        train_acc = network.accuracy(x_train, t_train)\n",
    "        test_acc = network.accuracy(x_test, t_test)\n",
    "        train_acc_list.append(train_acc)\n",
    "        test_acc_list.append(test_acc)\n",
    "        print(\"train acc, test acc | \" + str(train_acc) + \", \" + str(test_acc))"
   ]
  },
  {
   "cell_type": "code",
   "execution_count": null,
   "id": "6bc09b44",
   "metadata": {},
   "outputs": [],
   "source": [
    "#"
   ]
  }
 ],
 "metadata": {
  "kernelspec": {
   "display_name": "Python 3",
   "language": "python",
   "name": "python3"
  },
  "language_info": {
   "codemirror_mode": {
    "name": "ipython",
    "version": 3
   },
   "file_extension": ".py",
   "mimetype": "text/x-python",
   "name": "python",
   "nbconvert_exporter": "python",
   "pygments_lexer": "ipython3",
   "version": "3.8.2"
  }
 },
 "nbformat": 4,
 "nbformat_minor": 5
}
