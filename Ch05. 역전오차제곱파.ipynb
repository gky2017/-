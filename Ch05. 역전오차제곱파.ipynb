{
 "cells": [
  {
   "cell_type": "markdown",
   "id": "c6177258",
   "metadata": {},
   "source": [
    "### 계산 그래프\n",
    "\n",
    "* 계산 과정을 그래프로 나타낸 것임. 그래프는 복수의 node와 edge로 표현됨."
   ]
  },
  {
   "cell_type": "code",
   "execution_count": 1,
   "id": "a27479c7",
   "metadata": {},
   "outputs": [],
   "source": [
    "# 계산 그래프를 이용한 문제풀이의 흐름\n",
    "''' \n",
    "1. 계산 그래프를 구성한다.\n",
    "2. 그래프에서 계산을 왼쪽에서 오른쪽으로 진행한다. -> 순전파, 반대로 진행되면 역전파\n",
    "'''\n",
    "\n",
    "# 왜 계산 그래프인가?\n",
    "# 실제 계산 그래프를 사용하는 가장 큰 이유는 역전파를 통해 미분을 효율적으로 계산할 수 있다는 점!"
   ]
  },
  {
   "cell_type": "markdown",
   "id": "e0fca3b2",
   "metadata": {},
   "source": [
    "## 연쇄법칙\n",
    "\n",
    "* 역전파는 '국소적인 미분'을 순방향과는 반대인 오른쪽에서 왼쪽으로 전달한다.\n",
    "* 또한 이 국소적 미분을 전달하는 원리는 연쇄법칙에 따른 것임.\n",
    "\n",
    "\n",
    "\n",
    "* 합성함수 : 여러 함수로 구성된 함수\n",
    " *  연쇄법칙 : 합성 함수의 미분에 대한 성질\n",
    " * 합성 함수의 미분은 합성 함수를 구성하는 각 함수의 미분의 곱으로 나타낼 수 있다.\n",
    "\n",
    "\n",
    "\n",
    "* 덧셈 노드 역전파는 입력 신호를 다음 노드로 그대로 출력한다.\n",
    "* 곱셈 노드 역전파는 상류의 값에 순전파 때의 입력 진호들을 서로 바꾼 값을 곱해서 하류로 보낸다.\n",
    "\n"
   ]
  },
  {
   "cell_type": "markdown",
   "id": "cb03b0c7",
   "metadata": {},
   "source": [
    "## 단순한 계층 구현하기\n",
    "\n",
    "### 곱셈 계층"
   ]
  },
  {
   "cell_type": "code",
   "execution_count": 4,
   "id": "15d812cd",
   "metadata": {},
   "outputs": [],
   "source": [
    "class MulLayer:\n",
    "    def __init__(self):\n",
    "        self.x = None\n",
    "        self.y = None\n",
    "        \n",
    "    def forward(self, x, y):\n",
    "        self.x = x\n",
    "        self.y = y\n",
    "        out = x * y\n",
    "        \n",
    "        return out\n",
    "\n",
    "    def backward(self, dout):\n",
    "        dx = dout * self.y  # x와 y를 바꾼다\n",
    "        dy = dout * self.x \n",
    "        \n",
    "        return dx, dy"
   ]
  },
  {
   "cell_type": "code",
   "execution_count": 6,
   "id": "2136028f",
   "metadata": {},
   "outputs": [
    {
     "name": "stdout",
     "output_type": "stream",
     "text": [
      "220.00000000000003\n",
      "2.2 110.00000000000001 200\n"
     ]
    }
   ],
   "source": [
    "apple = 100\n",
    "apple_num = 2\n",
    "tax = 1.1\n",
    "\n",
    "# 계층들\n",
    "mul_apple_layer = MulLayer()\n",
    "mul_tax_layer = MulLayer()\n",
    "\n",
    "# 순전파\n",
    "apple_price = mul_apple_layer.forward(apple, apple_num)\n",
    "price = mul_tax_layer.forward(apple_price, tax)\n",
    "\n",
    "print(price)\n",
    "\n",
    "# 역전파\n",
    "dprice = 1\n",
    "dapple_price, dtax = mul_tax_layer.backward(dprice)\n",
    "dapple, dapple_num = mul_apple_layer.backward(dapple_price)\n",
    "\n",
    "print(dapple, dapple_num, dtax)"
   ]
  }
 ],
 "metadata": {
  "kernelspec": {
   "display_name": "Python 3",
   "language": "python",
   "name": "python3"
  },
  "language_info": {
   "codemirror_mode": {
    "name": "ipython",
    "version": 3
   },
   "file_extension": ".py",
   "mimetype": "text/x-python",
   "name": "python",
   "nbconvert_exporter": "python",
   "pygments_lexer": "ipython3",
   "version": "3.8.2"
  }
 },
 "nbformat": 4,
 "nbformat_minor": 5
}
